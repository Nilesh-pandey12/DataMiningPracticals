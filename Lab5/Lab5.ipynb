{
 "cells": [
  {
   "attachments": {},
   "cell_type": "markdown",
   "metadata": {},
   "source": [
    "Name: Shahnwaz Khan\n",
    "Roll: AC-1272\n",
    "Subject: Data Mining\n",
    "Semester: VI\n",
    "Practical: Q5"
   ]
  },
  {
   "cell_type": "code",
   "execution_count": 1,
   "metadata": {},
   "outputs": [],
   "source": [
    "import pandas as pd\n",
    "from sklearn.model_selection import train_test_split\n",
    "# Import Gaussian Naive Bayes \n",
    "from sklearn.naive_bayes import GaussianNB\n",
    "# For K Nearest\n",
    "from sklearn.neighbors import KNeighborsClassifier\n",
    "# Decision Tree\n",
    "from sklearn.tree import DecisionTreeClassifier\n",
    "# metrics to calculate the accuracy of classifiers\n",
    "from sklearn import metrics\n",
    "# seaborn to load the iris data set\n",
    "import seaborn as sns"
   ]
  },
  {
   "cell_type": "code",
   "execution_count": 2,
   "metadata": {},
   "outputs": [
    {
     "data": {
      "text/html": [
       "<div>\n",
       "<style scoped>\n",
       "    .dataframe tbody tr th:only-of-type {\n",
       "        vertical-align: middle;\n",
       "    }\n",
       "\n",
       "    .dataframe tbody tr th {\n",
       "        vertical-align: top;\n",
       "    }\n",
       "\n",
       "    .dataframe thead th {\n",
       "        text-align: right;\n",
       "    }\n",
       "</style>\n",
       "<table border=\"1\" class=\"dataframe\">\n",
       "  <thead>\n",
       "    <tr style=\"text-align: right;\">\n",
       "      <th></th>\n",
       "      <th>sepal_length</th>\n",
       "      <th>sepal_width</th>\n",
       "      <th>petal_length</th>\n",
       "      <th>petal_width</th>\n",
       "      <th>species</th>\n",
       "    </tr>\n",
       "  </thead>\n",
       "  <tbody>\n",
       "    <tr>\n",
       "      <th>0</th>\n",
       "      <td>5.1</td>\n",
       "      <td>3.5</td>\n",
       "      <td>1.4</td>\n",
       "      <td>0.2</td>\n",
       "      <td>setosa</td>\n",
       "    </tr>\n",
       "    <tr>\n",
       "      <th>1</th>\n",
       "      <td>4.9</td>\n",
       "      <td>3.0</td>\n",
       "      <td>1.4</td>\n",
       "      <td>0.2</td>\n",
       "      <td>setosa</td>\n",
       "    </tr>\n",
       "    <tr>\n",
       "      <th>2</th>\n",
       "      <td>4.7</td>\n",
       "      <td>3.2</td>\n",
       "      <td>1.3</td>\n",
       "      <td>0.2</td>\n",
       "      <td>setosa</td>\n",
       "    </tr>\n",
       "    <tr>\n",
       "      <th>3</th>\n",
       "      <td>4.6</td>\n",
       "      <td>3.1</td>\n",
       "      <td>1.5</td>\n",
       "      <td>0.2</td>\n",
       "      <td>setosa</td>\n",
       "    </tr>\n",
       "    <tr>\n",
       "      <th>4</th>\n",
       "      <td>5.0</td>\n",
       "      <td>3.6</td>\n",
       "      <td>1.4</td>\n",
       "      <td>0.2</td>\n",
       "      <td>setosa</td>\n",
       "    </tr>\n",
       "  </tbody>\n",
       "</table>\n",
       "</div>"
      ],
      "text/plain": [
       "   sepal_length  sepal_width  petal_length  petal_width species\n",
       "0           5.1          3.5           1.4          0.2  setosa\n",
       "1           4.9          3.0           1.4          0.2  setosa\n",
       "2           4.7          3.2           1.3          0.2  setosa\n",
       "3           4.6          3.1           1.5          0.2  setosa\n",
       "4           5.0          3.6           1.4          0.2  setosa"
      ]
     },
     "metadata": {},
     "output_type": "display_data"
    }
   ],
   "source": [
    "df=sns.load_dataset('iris')\n",
    "display(df.head())"
   ]
  },
  {
   "attachments": {},
   "cell_type": "markdown",
   "metadata": {},
   "source": [
    "Choosing Training set using HOLD OUT method"
   ]
  },
  {
   "cell_type": "code",
   "execution_count": 3,
   "metadata": {},
   "outputs": [],
   "source": [
    "# store the feature matrix (X) and response vector (y)\n",
    "X = df.drop(columns='species')\n",
    "y = df['species']\n",
    "# splitting X and y into training and testing sets\n",
    "X_train, X_test, y_train, y_test = train_test_split(X, y, test_size=0.2)"
   ]
  },
  {
   "attachments": {},
   "cell_type": "markdown",
   "metadata": {},
   "source": [
    "Naive Bayes Classifier"
   ]
  },
  {
   "cell_type": "code",
   "execution_count": 4,
   "metadata": {},
   "outputs": [],
   "source": [
    "# Naive Bayes Classifier\n",
    "gnb = GaussianNB()\n",
    "gnb.fit(X_train, y_train)\n",
    "# making predictions on the testing set\n",
    "y_pred = gnb.predict(X_test)"
   ]
  },
  {
   "cell_type": "code",
   "execution_count": 5,
   "metadata": {},
   "outputs": [],
   "source": [
    "Naive_Accuracy= metrics.accuracy_score(y_test, y_pred)*100"
   ]
  },
  {
   "attachments": {},
   "cell_type": "markdown",
   "metadata": {},
   "source": [
    "KNN"
   ]
  },
  {
   "cell_type": "code",
   "execution_count": 6,
   "metadata": {},
   "outputs": [],
   "source": [
    "# Create an instance of KNN class. Neighbors size=5 and p=2 means use Euclidean distance \n",
    "classifier=KNeighborsClassifier(n_neighbors = 5, metric = 'minkowski', p = 2)\n",
    "# Train our data by fitting the data into our model\n",
    "classifier.fit(X_train,y_train)\n",
    "# Now predict the output\n",
    "y_pred=classifier.predict(X_test)"
   ]
  },
  {
   "cell_type": "code",
   "execution_count": 7,
   "metadata": {},
   "outputs": [],
   "source": [
    "KNN_Accuracy= metrics.accuracy_score(y_test, y_pred)*100"
   ]
  },
  {
   "attachments": {},
   "cell_type": "markdown",
   "metadata": {},
   "source": [
    "Decision Tree"
   ]
  },
  {
   "cell_type": "code",
   "execution_count": 8,
   "metadata": {},
   "outputs": [],
   "source": [
    "# Creating instance of Decision Tree Classifier\n",
    "DC=DecisionTreeClassifier()\n",
    "# Fit the model\n",
    "DC.fit(X_train,y_train)\n",
    "# Predict the result\n",
    "y_pred=DC.predict(X_test)"
   ]
  },
  {
   "cell_type": "code",
   "execution_count": 9,
   "metadata": {},
   "outputs": [],
   "source": [
    "Decision_Accuracy= metrics.accuracy_score(y_test, y_pred)*100"
   ]
  },
  {
   "cell_type": "code",
   "execution_count": 10,
   "metadata": {},
   "outputs": [
    {
     "name": "stdout",
     "output_type": "stream",
     "text": [
      "Naive Bayes Accuracy:  93.33333333333333\n",
      "KNN accuracy:  93.33333333333333\n",
      "Decision Tree Accuracy:  93.33333333333333\n"
     ]
    }
   ],
   "source": [
    "print('Naive Bayes Accuracy: ',Naive_Accuracy)\n",
    "print('KNN accuracy: ',KNN_Accuracy)\n",
    "print('Decision Tree Accuracy: ',Decision_Accuracy)"
   ]
  },
  {
   "attachments": {},
   "cell_type": "markdown",
   "metadata": {},
   "source": [
    "Comparing Different Classifiers using Bar Plot"
   ]
  },
  {
   "cell_type": "code",
   "execution_count": 11,
   "metadata": {},
   "outputs": [
    {
     "data": {
      "text/html": [
       "<div>\n",
       "<style scoped>\n",
       "    .dataframe tbody tr th:only-of-type {\n",
       "        vertical-align: middle;\n",
       "    }\n",
       "\n",
       "    .dataframe tbody tr th {\n",
       "        vertical-align: top;\n",
       "    }\n",
       "\n",
       "    .dataframe thead th {\n",
       "        text-align: right;\n",
       "    }\n",
       "</style>\n",
       "<table border=\"1\" class=\"dataframe\">\n",
       "  <thead>\n",
       "    <tr style=\"text-align: right;\">\n",
       "      <th></th>\n",
       "      <th>Naive</th>\n",
       "      <th>KNN</th>\n",
       "      <th>Decision</th>\n",
       "    </tr>\n",
       "  </thead>\n",
       "  <tbody>\n",
       "    <tr>\n",
       "      <th>classifier</th>\n",
       "      <td>93.333333</td>\n",
       "      <td>93.333333</td>\n",
       "      <td>93.333333</td>\n",
       "    </tr>\n",
       "  </tbody>\n",
       "</table>\n",
       "</div>"
      ],
      "text/plain": [
       "                Naive        KNN   Decision\n",
       "classifier  93.333333  93.333333  93.333333"
      ]
     },
     "execution_count": 11,
     "metadata": {},
     "output_type": "execute_result"
    }
   ],
   "source": [
    "df=pd.DataFrame([[Naive_Accuracy,KNN_Accuracy,Decision_Accuracy]],columns=['Naive','KNN','Decision'],index=['classifier'])\n",
    "df"
   ]
  },
  {
   "cell_type": "code",
   "execution_count": 12,
   "metadata": {},
   "outputs": [
    {
     "data": {
      "text/plain": [
       "<AxesSubplot:>"
      ]
     },
     "execution_count": 12,
     "metadata": {},
     "output_type": "execute_result"
    },
    {
     "data": {
      "image/png": "[encoded data removed]",
      "text/plain": [
       "<Figure size 432x288 with 1 Axes>"
      ]
     },
     "metadata": {
      "needs_background": "light"
     },
     "output_type": "display_data"
    }
   ],
   "source": [
    "df.plot.bar()"
   ]
  },
  {
   "attachments": {},
   "cell_type": "markdown",
   "metadata": {},
   "source": [
    "(ii) Choose Training set using Random Sub Sampling method"
   ]
  },
  {
   "attachments": {},
   "cell_type": "markdown",
   "metadata": {},
   "source": [
    "Random subsampling"
   ]
  },
  {
   "cell_type": "code",
   "execution_count": 13,
   "metadata": {},
   "outputs": [
    {
     "name": "stdout",
     "output_type": "stream",
     "text": [
      "Naive Bayes Accuracy:  95.55555555555556\n",
      "KNN accuracy:  94.44444444444444\n",
      "Decision Tree Accuracy:  93.33333333333333\n"
     ]
    }
   ],
   "source": [
    "k=3  # Count of random selection of samples\n",
    "Decision_Accuracy=0  # Accuracy of decision tree\n",
    "KNN_Accuracy=0 # Accuracy of KNN\n",
    "Naive_Accuracy=0 # Accuracy of Naive Bayes  \n",
    "for i in range(k):\n",
    "    X_train, X_test, y_train, y_test = train_test_split(X, y, test_size=0.2)\n",
    "    \n",
    "# Fit the decision tree model\n",
    "    DC.fit(X_train,y_train)\n",
    "    # Fit KNN Model\n",
    "    classifier.fit(X_train,y_train)\n",
    "    # Fit Naive Bayes Model\n",
    "    gnb.fit(X_train,y_train)\n",
    "# Predict the result using each classifier\n",
    "    y_pred_dc=DC.predict(X_test)\n",
    "    y_pred_knn=classifier.predict(X_test)\n",
    "    y_pred_naive=gnb.predict(X_test)\n",
    "\n",
    "    # Now find the accuracy of each classifier \n",
    "    #Decision tree\n",
    "    acc_temp_DC= metrics.accuracy_score(y_test, y_pred_dc)*100\n",
    "    Decision_Accuracy+=acc_temp_DC/k\n",
    "\n",
    "    # KNN\n",
    "    acc_temp_KNN= metrics.accuracy_score(y_test, y_pred_knn)*100\n",
    "    KNN_Accuracy+=acc_temp_KNN/k\n",
    "\n",
    "    # Naive Bayes\n",
    "    acc_temp_Naive= metrics.accuracy_score(y_test, y_pred_naive)*100\n",
    "    Naive_Accuracy+=acc_temp_Naive/k\n",
    "\n",
    "print('Naive Bayes Accuracy: ',Naive_Accuracy)\n",
    "print('KNN accuracy: ',KNN_Accuracy)\n",
    "print('Decision Tree Accuracy: ',Decision_Accuracy)"
   ]
  },
  {
   "attachments": {},
   "cell_type": "markdown",
   "metadata": {},
   "source": [
    "Compare different classifier using Bar Plot"
   ]
  },
  {
   "cell_type": "code",
   "execution_count": 14,
   "metadata": {},
   "outputs": [
    {
     "data": {
      "text/html": [
       "<div>\n",
       "<style scoped>\n",
       "    .dataframe tbody tr th:only-of-type {\n",
       "        vertical-align: middle;\n",
       "    }\n",
       "\n",
       "    .dataframe tbody tr th {\n",
       "        vertical-align: top;\n",
       "    }\n",
       "\n",
       "    .dataframe thead th {\n",
       "        text-align: right;\n",
       "    }\n",
       "</style>\n",
       "<table border=\"1\" class=\"dataframe\">\n",
       "  <thead>\n",
       "    <tr style=\"text-align: right;\">\n",
       "      <th></th>\n",
       "      <th>Naive</th>\n",
       "      <th>KNN</th>\n",
       "      <th>Decision</th>\n",
       "    </tr>\n",
       "  </thead>\n",
       "  <tbody>\n",
       "    <tr>\n",
       "      <th>classifier</th>\n",
       "      <td>95.555556</td>\n",
       "      <td>94.444444</td>\n",
       "      <td>93.333333</td>\n",
       "    </tr>\n",
       "  </tbody>\n",
       "</table>\n",
       "</div>"
      ],
      "text/plain": [
       "                Naive        KNN   Decision\n",
       "classifier  95.555556  94.444444  93.333333"
      ]
     },
     "execution_count": 14,
     "metadata": {},
     "output_type": "execute_result"
    }
   ],
   "source": [
    "df=pd.DataFrame([[Naive_Accuracy,KNN_Accuracy,Decision_Accuracy]],columns=['Naive','KNN','Decision'],index=['classifier'])\n",
    "df"
   ]
  },
  {
   "cell_type": "code",
   "execution_count": 15,
   "metadata": {},
   "outputs": [
    {
     "data": {
      "text/plain": [
       "<AxesSubplot:>"
      ]
     },
     "execution_count": 15,
     "metadata": {},
     "output_type": "execute_result"
    },
    {
     "data": {
      "image/png": "[encoded data removed]",
      "text/plain": [
       "<Figure size 432x288 with 1 Axes>"
      ]
     },
     "metadata": {
      "needs_background": "light"
     },
     "output_type": "display_data"
    }
   ],
   "source": [
    "df.plot.bar()"
   ]
  },
  {
   "attachments": {},
   "cell_type": "markdown",
   "metadata": {},
   "source": [
    "5.3 Data is scaled to standard format."
   ]
  },
  {
   "cell_type": "code",
   "execution_count": 16,
   "metadata": {},
   "outputs": [],
   "source": [
    "from sklearn.preprocessing import StandardScaler"
   ]
  },
  {
   "cell_type": "code",
   "execution_count": 21,
   "metadata": {},
   "outputs": [
    {
     "name": "stdout",
     "output_type": "stream",
     "text": [
      "[[-0.97926616 -1.8617121  -0.216762   -0.22108395]\n",
      " [ 1.62684539  0.26595887  1.28069832  0.81931112]\n",
      " [-1.45310462  0.73877464 -1.27053038 -1.13142965]\n",
      " [ 1.03454731 -0.2068569   0.72608339  0.68926174]\n",
      " [-0.50542769  1.92081407 -1.1041459  -1.00138026]\n",
      " [-1.69002385 -0.44326479 -1.27053038 -1.26147903]\n",
      " [-0.50542769 -0.2068569   0.44877592  0.42916297]\n",
      " [-0.97926616  0.97518253 -1.32599188 -1.13142965]\n",
      " [ 0.91608769 -0.2068569   0.39331443  0.29911359]\n",
      " [-0.86080654  0.50236676 -1.1041459  -0.87133088]\n",
      " [-0.74234693  0.73877464 -1.27053038 -1.26147903]\n",
      " [-1.09772577  1.21159041 -1.27053038 -1.39152842]\n",
      " [ 1.03454731  0.02955099  0.55969891  0.42916297]\n",
      " [ 0.44224923 -0.44326479  0.33785293  0.1690642 ]\n",
      " [-0.38696808 -1.15248844  0.39331443  0.03901482]\n",
      " [-0.03158923 -0.91608056  0.78154488  0.94936051]\n",
      " [-0.15004885 -0.67967267  0.22692994  0.1690642 ]\n",
      " [-1.45310462  1.21159041 -1.49237636 -1.26147903]\n",
      " [ 1.15300693 -0.2068569   1.00339086  1.20945928]\n",
      " [-0.97926616  1.21159041 -1.27053038 -1.26147903]\n",
      " [ 1.03454731  0.50236676  1.11431384  1.72965682]\n",
      " [-1.21618539  0.73877464 -0.99322292 -1.26147903]\n",
      " [ 0.67916846  0.02955099  1.00339086  0.81931112]\n",
      " [-0.50542769  0.73877464 -1.21506889 -1.00138026]\n",
      " [ 0.32378962 -0.67967267  0.55969891  0.03901482]\n",
      " [ 2.21914347 -1.15248844  1.77985177  1.46955805]\n",
      " [-0.97926616  0.97518253 -1.1596074  -0.74128149]\n",
      " [-0.74234693  0.97518253 -1.21506889 -1.26147903]\n",
      " [ 1.27146654  0.02955099  0.94792936  1.20945928]\n",
      " [ 1.15300693 -0.67967267  0.6151604   0.29911359]\n",
      " [-1.21618539 -0.2068569  -1.27053038 -1.13142965]\n",
      " [-0.50542769  1.92081407 -1.32599188 -1.00138026]\n",
      " [-0.97926616  0.26595887 -1.38145337 -1.26147903]\n",
      " [ 0.20533     0.73877464  0.44877592  0.55921235]\n",
      " [-0.86080654  1.68440618 -1.21506889 -1.13142965]\n",
      " [-0.38696808 -1.62530421  0.00508397 -0.22108395]\n",
      " [ 0.56070885 -1.8617121   0.39331443  0.1690642 ]\n",
      " [-0.97926616 -0.2068569  -1.1596074  -1.26147903]\n",
      " [-1.334645    0.26595887 -1.1596074  -1.26147903]\n",
      " [-1.57156424 -1.8617121  -1.32599188 -1.13142965]\n",
      " [ 1.62684539 -0.2068569   1.16977534  0.55921235]\n",
      " [-1.45310462  0.02955099 -1.21506889 -1.26147903]\n",
      " [ 0.67916846 -0.67967267  1.05885235  1.33950866]\n",
      " [-0.50542769  1.4479983  -1.21506889 -1.26147903]\n",
      " [ 0.32378962 -1.15248844  1.05885235  0.29911359]\n",
      " [ 0.79762808 -0.2068569   1.16977534  1.33950866]\n",
      " [ 0.67916846 -0.44326479  0.33785293  0.1690642 ]\n",
      " [ 2.10068385 -0.2068569   1.61346729  1.20945928]\n",
      " [-0.97926616  0.50236676 -1.27053038 -1.26147903]\n",
      " [-0.50542769  0.73877464 -1.1041459  -1.26147903]\n",
      " [-1.09772577  0.02955099 -1.21506889 -1.26147903]\n",
      " [-1.45310462  0.26595887 -1.27053038 -1.26147903]\n",
      " [-1.21618539  0.02955099 -1.1596074  -1.26147903]\n",
      " [-0.15004885 -1.38889633  0.72608339  1.07940989]\n",
      " [-0.15004885 -0.2068569   0.28239144  0.03901482]\n",
      " [ 0.08687038  0.26595887  0.6151604   0.81931112]\n",
      " [ 1.38992616  0.26595887  0.55969891  0.29911359]\n",
      " [ 0.67916846  0.26595887  0.89246787  1.46955805]\n",
      " [-0.15004885  3.1028535  -1.21506889 -1.00138026]\n",
      " [ 0.20533    -0.2068569   0.6151604   0.81931112]\n",
      " [-1.09772577 -0.2068569  -1.27053038 -1.26147903]\n",
      " [ 0.91608769 -0.44326479  0.50423741  0.1690642 ]\n",
      " [ 0.20533    -2.09811998  0.17146845 -0.22108395]\n",
      " [ 2.21914347 -0.67967267  1.66892878  1.07940989]\n",
      " [-0.26850846 -0.2068569   0.44877592  0.42916297]\n",
      " [ 1.03454731 -0.2068569   0.83700638  1.46955805]\n",
      " [-0.86080654  1.68440618 -1.1596074  -1.26147903]\n",
      " [ 1.03454731  0.50236676  1.11431384  1.20945928]\n",
      " [-0.62388731  1.4479983  -1.21506889 -1.26147903]\n",
      " [-1.09772577 -1.38889633  0.44877592  0.68926174]\n",
      " [ 0.44224923  0.73877464  0.94792936  1.46955805]\n",
      " [-0.38696808  2.63003773 -1.27053038 -1.26147903]\n",
      " [-0.15004885  1.68440618 -1.1041459  -1.13142965]\n",
      " [ 0.67916846  0.26595887  0.44877592  0.42916297]\n",
      " [-0.86080654  1.68440618 -0.99322292 -1.00138026]\n",
      " [ 0.79762808  0.26595887  0.78154488  1.07940989]\n",
      " [ 2.21914347  1.68440618  1.66892878  1.33950866]\n",
      " [ 0.08687038 -0.2068569   0.78154488  0.81931112]\n",
      " [ 0.79762808 -0.2068569   1.00339086  0.81931112]\n",
      " [ 0.56070885  0.50236676  1.28069832  1.72965682]\n",
      " [-0.97926616  0.73877464 -1.1596074  -1.00138026]\n",
      " [ 1.03454731  0.02955099  0.39331443  0.29911359]\n",
      " [-0.15004885 -0.44326479  0.28239144  0.1690642 ]\n",
      " [-1.69002385  0.26595887 -1.32599188 -1.26147903]\n",
      " [ 0.32378962 -0.67967267  0.17146845  0.1690642 ]\n",
      " [ 0.67916846 -0.67967267  1.05885235  1.20945928]\n",
      " [ 1.62684539  1.21159041  1.33615982  1.72965682]\n",
      " [ 0.44224923 -0.67967267  0.6151604   0.81931112]\n",
      " [-1.09772577 -1.62530421 -0.216762   -0.22108395]\n",
      " [-0.74234693 -0.91608056  0.11600696  0.29911359]\n",
      " [ 0.56070885 -1.38889633  0.72608339  0.94936051]\n",
      " [ 0.32378962 -0.2068569   0.67062189  0.81931112]\n",
      " [-0.26850846 -0.2068569   0.22692994  0.1690642 ]\n",
      " [-0.86080654  0.97518253 -1.27053038 -1.26147903]\n",
      " [ 2.21914347 -0.2068569   1.33615982  1.46955805]\n",
      " [-1.80848347 -0.2068569  -1.43691487 -1.39152842]\n",
      " [ 1.03454731 -1.38889633  1.16977534  0.81931112]\n",
      " [-0.26850846 -0.67967267  0.67062189  1.07940989]\n",
      " [-0.15004885 -0.67967267  0.44877592  0.1690642 ]\n",
      " [ 1.15300693  0.26595887  1.22523683  1.46955805]\n",
      " [-0.86080654  0.73877464 -1.21506889 -1.26147903]\n",
      " [-1.69002385 -0.2068569  -1.32599188 -1.26147903]\n",
      " [ 0.79762808 -0.2068569   0.83700638  1.07940989]\n",
      " [-0.03158923 -0.91608056  0.78154488  0.94936051]\n",
      " [-0.03158923 -0.91608056  0.22692994 -0.22108395]\n",
      " [-0.38696808 -1.62530421  0.06054546 -0.09103457]\n",
      " [-0.38696808  0.97518253 -1.32599188 -1.26147903]\n",
      " [-0.15004885 -1.15248844 -0.10583902 -0.22108395]\n",
      " [ 1.27146654  0.26595887  1.11431384  1.46955805]\n",
      " [-0.26850846 -0.44326479 -0.05037752  0.1690642 ]\n",
      " [ 1.27146654  0.02955099  0.67062189  0.42916297]\n",
      " [ 0.56070885 -0.44326479  1.05885235  0.81931112]\n",
      " [-0.03158923 -0.91608056  0.11600696  0.03901482]\n",
      " [ 1.50838577 -0.2068569   1.22523683  1.20945928]\n",
      " [-1.334645    0.26595887 -1.32599188 -1.26147903]\n",
      " [-0.03158923 -1.15248844  0.17146845  0.03901482]\n",
      " [ 1.745305   -0.44326479  1.44708281  0.81931112]\n",
      " [-0.03158923  2.15722196 -1.38145337 -1.26147903]\n",
      " [-0.97926616 -2.57093576 -0.10583902 -0.22108395]\n",
      " [ 0.56070885  0.50236676  0.55969891  0.55921235]]\n"
     ]
    }
   ],
   "source": [
    "object= StandardScaler()\n",
    "# standardization \n",
    "scale = object.fit_transform(X_train) \n",
    "print(scale)"
   ]
  },
  {
   "cell_type": "code",
   "execution_count": null,
   "metadata": {},
   "outputs": [],
   "source": []
  }
 ],
 "metadata": {
  "kernelspec": {
   "display_name": "Python 3",
   "language": "python",
   "name": "python3"
  },
  "language_info": {
   "codemirror_mode": {
    "name": "ipython",
    "version": 3
   },
   "file_extension": ".py",
   "mimetype": "text/x-python",
   "name": "python",
   "nbconvert_exporter": "python",
   "pygments_lexer": "ipython3",
   "version": "3.10.4"
  },
  "orig_nbformat": 4
 },
 "nbformat": 4,
 "nbformat_minor": 2
}
