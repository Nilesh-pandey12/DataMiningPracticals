{
 "cells": [
  {
   "cell_type": "code",
   "execution_count": 36,
   "metadata": {},
   "outputs": [],
   "source": [
    "import pandas as pd\n",
    "import numpy as np\n",
    "from apyori import apriori\n",
    "from mlxtend.frequent_patterns import association_rules\n",
    "from mlxtend.preprocessing import TransactionEncoder"
   ]
  },
  {
   "cell_type": "code",
   "execution_count": 37,
   "metadata": {},
   "outputs": [],
   "source": [
    "dataset = pd.read_csv(\"groceries.csv\")"
   ]
  },
  {
   "cell_type": "code",
   "execution_count": 38,
   "metadata": {},
   "outputs": [
    {
     "data": {
      "text/html": [
       "<div>\n",
       "<style scoped>\n",
       "    .dataframe tbody tr th:only-of-type {\n",
       "        vertical-align: middle;\n",
       "    }\n",
       "\n",
       "    .dataframe tbody tr th {\n",
       "        vertical-align: top;\n",
       "    }\n",
       "\n",
       "    .dataframe thead th {\n",
       "        text-align: right;\n",
       "    }\n",
       "</style>\n",
       "<table border=\"1\" class=\"dataframe\">\n",
       "  <thead>\n",
       "    <tr style=\"text-align: right;\">\n",
       "      <th></th>\n",
       "      <th>Items</th>\n",
       "    </tr>\n",
       "  </thead>\n",
       "  <tbody>\n",
       "    <tr>\n",
       "      <th>0</th>\n",
       "      <td>citrus fruit,semi-finished bread,margarine,rea...</td>\n",
       "    </tr>\n",
       "    <tr>\n",
       "      <th>1</th>\n",
       "      <td>tropical fruit,yogurt,coffee</td>\n",
       "    </tr>\n",
       "    <tr>\n",
       "      <th>2</th>\n",
       "      <td>whole milk</td>\n",
       "    </tr>\n",
       "    <tr>\n",
       "      <th>3</th>\n",
       "      <td>pip fruit,yogurt,cream cheese ,meat spreads</td>\n",
       "    </tr>\n",
       "    <tr>\n",
       "      <th>4</th>\n",
       "      <td>other vegetables,whole milk,condensed milk,lon...</td>\n",
       "    </tr>\n",
       "    <tr>\n",
       "      <th>...</th>\n",
       "      <td>...</td>\n",
       "    </tr>\n",
       "    <tr>\n",
       "      <th>695</th>\n",
       "      <td>pork,UHT-milk,bottled water,soda,canned beer</td>\n",
       "    </tr>\n",
       "    <tr>\n",
       "      <th>696</th>\n",
       "      <td>other vegetables,curd,yogurt,curd cheese,marga...</td>\n",
       "    </tr>\n",
       "    <tr>\n",
       "      <th>697</th>\n",
       "      <td>rolls/buns,soda,fruit/vegetable juice,canned b...</td>\n",
       "    </tr>\n",
       "    <tr>\n",
       "      <th>698</th>\n",
       "      <td>frankfurter,pip fruit,whole milk,rolls/buns,ro...</td>\n",
       "    </tr>\n",
       "    <tr>\n",
       "      <th>699</th>\n",
       "      <td>yogurt,hygiene articles,newspapers,shopping bags</td>\n",
       "    </tr>\n",
       "  </tbody>\n",
       "</table>\n",
       "<p>700 rows × 1 columns</p>\n",
       "</div>"
      ],
      "text/plain": [
       "                                                 Items\n",
       "0    citrus fruit,semi-finished bread,margarine,rea...\n",
       "1                         tropical fruit,yogurt,coffee\n",
       "2                                           whole milk\n",
       "3          pip fruit,yogurt,cream cheese ,meat spreads\n",
       "4    other vegetables,whole milk,condensed milk,lon...\n",
       "..                                                 ...\n",
       "695       pork,UHT-milk,bottled water,soda,canned beer\n",
       "696  other vegetables,curd,yogurt,curd cheese,marga...\n",
       "697  rolls/buns,soda,fruit/vegetable juice,canned b...\n",
       "698  frankfurter,pip fruit,whole milk,rolls/buns,ro...\n",
       "699   yogurt,hygiene articles,newspapers,shopping bags\n",
       "\n",
       "[700 rows x 1 columns]"
      ]
     },
     "execution_count": 38,
     "metadata": {},
     "output_type": "execute_result"
    }
   ],
   "source": [
    "dataset"
   ]
  },
  {
   "cell_type": "code",
   "execution_count": null,
   "metadata": {},
   "outputs": [],
   "source": []
  },
  {
   "cell_type": "code",
   "execution_count": 39,
   "metadata": {},
   "outputs": [
    {
     "data": {
      "text/html": [
       "<div>\n",
       "<style scoped>\n",
       "    .dataframe tbody tr th:only-of-type {\n",
       "        vertical-align: middle;\n",
       "    }\n",
       "\n",
       "    .dataframe tbody tr th {\n",
       "        vertical-align: top;\n",
       "    }\n",
       "\n",
       "    .dataframe thead th {\n",
       "        text-align: right;\n",
       "    }\n",
       "</style>\n",
       "<table border=\"1\" class=\"dataframe\">\n",
       "  <thead>\n",
       "    <tr style=\"text-align: right;\">\n",
       "      <th></th>\n",
       "      <th>Items</th>\n",
       "    </tr>\n",
       "  </thead>\n",
       "  <tbody>\n",
       "    <tr>\n",
       "      <th>0</th>\n",
       "      <td>citrus fruit,semi-finished bread,margarine,rea...</td>\n",
       "    </tr>\n",
       "    <tr>\n",
       "      <th>1</th>\n",
       "      <td>tropical fruit,yogurt,coffee</td>\n",
       "    </tr>\n",
       "    <tr>\n",
       "      <th>2</th>\n",
       "      <td>whole milk</td>\n",
       "    </tr>\n",
       "    <tr>\n",
       "      <th>3</th>\n",
       "      <td>pip fruit,yogurt,cream cheese ,meat spreads</td>\n",
       "    </tr>\n",
       "    <tr>\n",
       "      <th>4</th>\n",
       "      <td>other vegetables,whole milk,condensed milk,lon...</td>\n",
       "    </tr>\n",
       "    <tr>\n",
       "      <th>...</th>\n",
       "      <td>...</td>\n",
       "    </tr>\n",
       "    <tr>\n",
       "      <th>695</th>\n",
       "      <td>pork,UHT-milk,bottled water,soda,canned beer</td>\n",
       "    </tr>\n",
       "    <tr>\n",
       "      <th>696</th>\n",
       "      <td>other vegetables,curd,yogurt,curd cheese,marga...</td>\n",
       "    </tr>\n",
       "    <tr>\n",
       "      <th>697</th>\n",
       "      <td>rolls/buns,soda,fruit/vegetable juice,canned b...</td>\n",
       "    </tr>\n",
       "    <tr>\n",
       "      <th>698</th>\n",
       "      <td>frankfurter,pip fruit,whole milk,rolls/buns,ro...</td>\n",
       "    </tr>\n",
       "    <tr>\n",
       "      <th>699</th>\n",
       "      <td>yogurt,hygiene articles,newspapers,shopping bags</td>\n",
       "    </tr>\n",
       "  </tbody>\n",
       "</table>\n",
       "<p>700 rows × 1 columns</p>\n",
       "</div>"
      ],
      "text/plain": [
       "                                                 Items\n",
       "0    citrus fruit,semi-finished bread,margarine,rea...\n",
       "1                         tropical fruit,yogurt,coffee\n",
       "2                                           whole milk\n",
       "3          pip fruit,yogurt,cream cheese ,meat spreads\n",
       "4    other vegetables,whole milk,condensed milk,lon...\n",
       "..                                                 ...\n",
       "695       pork,UHT-milk,bottled water,soda,canned beer\n",
       "696  other vegetables,curd,yogurt,curd cheese,marga...\n",
       "697  rolls/buns,soda,fruit/vegetable juice,canned b...\n",
       "698  frankfurter,pip fruit,whole milk,rolls/buns,ro...\n",
       "699   yogurt,hygiene articles,newspapers,shopping bags\n",
       "\n",
       "[700 rows x 1 columns]"
      ]
     },
     "execution_count": 39,
     "metadata": {},
     "output_type": "execute_result"
    }
   ],
   "source": [
    "dataset"
   ]
  },
  {
   "cell_type": "code",
   "execution_count": 50,
   "metadata": {},
   "outputs": [],
   "source": [
    "transactions=[]\n",
    "items=dataset['Items'].values\n",
    "for i in range(0, len(items)):\n",
    "    transactions.append(items[i].split(\",\"))\n",
    "    "
   ]
  },
  {
   "cell_type": "code",
   "execution_count": 70,
   "metadata": {},
   "outputs": [
    {
     "data": {
      "text/plain": [
       "[RelationRecord(items=frozenset({'tropical fruit', 'citrus fruit'}), support=0.02, ordered_statistics=[OrderedStatistic(items_base=frozenset({'citrus fruit'}), items_add=frozenset({'tropical fruit'}), confidence=0.21538461538461537, lift=2.3195266272189348), OrderedStatistic(items_base=frozenset({'tropical fruit'}), items_add=frozenset({'citrus fruit'}), confidence=0.21538461538461537, lift=2.3195266272189348)]),\n",
       " RelationRecord(items=frozenset({'curd', 'yogurt'}), support=0.024285714285714285, ordered_statistics=[OrderedStatistic(items_base=frozenset({'curd'}), items_add=frozenset({'yogurt'}), confidence=0.3269230769230769, lift=2.825261158594492), OrderedStatistic(items_base=frozenset({'yogurt'}), items_add=frozenset({'curd'}), confidence=0.20987654320987653, lift=2.8252611585944916)]),\n",
       " RelationRecord(items=frozenset({'rolls/buns', 'frankfurter'}), support=0.03428571428571429, ordered_statistics=[OrderedStatistic(items_base=frozenset({'frankfurter'}), items_add=frozenset({'rolls/buns'}), confidence=0.5, lift=2.287581699346405), OrderedStatistic(items_base=frozenset({'rolls/buns'}), items_add=frozenset({'frankfurter'}), confidence=0.1568627450980392, lift=2.287581699346405)]),\n",
       " RelationRecord(items=frozenset({'root vegetables', 'other vegetables'}), support=0.04285714285714286, ordered_statistics=[OrderedStatistic(items_base=frozenset({'other vegetables'}), items_add=frozenset({'root vegetables'}), confidence=0.23255813953488375, lift=2.292826727808713), OrderedStatistic(items_base=frozenset({'root vegetables'}), items_add=frozenset({'other vegetables'}), confidence=0.4225352112676057, lift=2.292826727808713)]),\n",
       " RelationRecord(items=frozenset({'rolls/buns', 'sausage'}), support=0.04, ordered_statistics=[OrderedStatistic(items_base=frozenset({'rolls/buns'}), items_add=frozenset({'sausage'}), confidence=0.1830065359477124, lift=2.2474486870771697), OrderedStatistic(items_base=frozenset({'sausage'}), items_add=frozenset({'rolls/buns'}), confidence=0.49122807017543857, lift=2.2474486870771697)]),\n",
       " RelationRecord(items=frozenset({'tropical fruit', 'root vegetables'}), support=0.024285714285714285, ordered_statistics=[OrderedStatistic(items_base=frozenset({'root vegetables'}), items_add=frozenset({'tropical fruit'}), confidence=0.23943661971830987, lift=2.5785482123510293), OrderedStatistic(items_base=frozenset({'tropical fruit'}), items_add=frozenset({'root vegetables'}), confidence=0.26153846153846155, lift=2.5785482123510297)]),\n",
       " RelationRecord(items=frozenset({'yogurt', 'sausage'}), support=0.02142857142857143, ordered_statistics=[OrderedStatistic(items_base=frozenset({'sausage'}), items_add=frozenset({'yogurt'}), confidence=0.2631578947368421, lift=2.2742040285899936), OrderedStatistic(items_base=frozenset({'yogurt'}), items_add=frozenset({'sausage'}), confidence=0.18518518518518517, lift=2.274204028589993)]),\n",
       " RelationRecord(items=frozenset({'root vegetables', 'other vegetables', 'whole milk'}), support=0.02, ordered_statistics=[OrderedStatistic(items_base=frozenset({'other vegetables'}), items_add=frozenset({'root vegetables', 'whole milk'}), confidence=0.10852713178294575, lift=2.4506126531632915), OrderedStatistic(items_base=frozenset({'root vegetables'}), items_add=frozenset({'other vegetables', 'whole milk'}), confidence=0.1971830985915493, lift=3.0672926447574342), OrderedStatistic(items_base=frozenset({'other vegetables', 'whole milk'}), items_add=frozenset({'root vegetables'}), confidence=0.31111111111111117, lift=3.0672926447574342), OrderedStatistic(items_base=frozenset({'root vegetables', 'whole milk'}), items_add=frozenset({'other vegetables'}), confidence=0.4516129032258065, lift=2.450612653163291)])]"
      ]
     },
     "execution_count": 70,
     "metadata": {},
     "output_type": "execute_result"
    }
   ],
   "source": [
    "association_rule=apriori(transactions,min_support=0.02,min_confidence=0.04,max_length=4,min_lift=2)\n",
    "result=list(association_rule)\n",
    "\n",
    "result\n"
   ]
  },
  {
   "cell_type": "code",
   "execution_count": 71,
   "metadata": {},
   "outputs": [
    {
     "name": "stdout",
     "output_type": "stream",
     "text": [
      "Rule :  tropical fruit  -> citrus fruit\n",
      "Support :  0.02\n",
      "Confidence :  0.21538461538461537\n",
      "Lift :  2.3195266272189348\n",
      "=============================\n",
      "Rule :  curd  -> yogurt\n",
      "Support :  0.024285714285714285\n",
      "Confidence :  0.3269230769230769\n",
      "Lift :  2.825261158594492\n",
      "=============================\n",
      "Rule :  rolls/buns  -> frankfurter\n",
      "Support :  0.03428571428571429\n",
      "Confidence :  0.5\n",
      "Lift :  2.287581699346405\n",
      "=============================\n",
      "Rule :  root vegetables  -> other vegetables\n",
      "Support :  0.04285714285714286\n",
      "Confidence :  0.23255813953488375\n",
      "Lift :  2.292826727808713\n",
      "=============================\n",
      "Rule :  rolls/buns  -> sausage\n",
      "Support :  0.04\n",
      "Confidence :  0.1830065359477124\n",
      "Lift :  2.2474486870771697\n",
      "=============================\n",
      "Rule :  tropical fruit  -> root vegetables\n",
      "Support :  0.024285714285714285\n",
      "Confidence :  0.23943661971830987\n",
      "Lift :  2.5785482123510293\n",
      "=============================\n",
      "Rule :  yogurt  -> sausage\n",
      "Support :  0.02142857142857143\n",
      "Confidence :  0.2631578947368421\n",
      "Lift :  2.2742040285899936\n",
      "=============================\n",
      "Rule :  root vegetables  -> other vegetables\n",
      "Support :  0.02\n",
      "Confidence :  0.10852713178294575\n",
      "Lift :  2.4506126531632915\n",
      "=============================\n"
     ]
    }
   ],
   "source": [
    "for item in result:\n",
    "    \n",
    "    pair = item[0]\n",
    "    items = [x for x in pair]\n",
    "    \n",
    "    print(\"Rule : \", items[0], \" -> \" + items[1])\n",
    "    print(\"Support : \", str(item[1]))\n",
    "    print(\"Confidence : \",str(item[2][0][2]))\n",
    "    print(\"Lift : \", str(item[2][0][3]))\n",
    "    \n",
    "    print(\"=============================\")"
   ]
  },
  {
   "cell_type": "code",
   "execution_count": null,
   "metadata": {},
   "outputs": [],
   "source": []
  }
 ],
 "metadata": {
  "kernelspec": {
   "display_name": "Python 3",
   "language": "python",
   "name": "python3"
  },
  "language_info": {
   "codemirror_mode": {
    "name": "ipython",
    "version": 3
   },
   "file_extension": ".py",
   "mimetype": "text/x-python",
   "name": "python",
   "nbconvert_exporter": "python",
   "pygments_lexer": "ipython3",
   "version": "3.10.8"
  },
  "orig_nbformat": 4
 },
 "nbformat": 4,
 "nbformat_minor": 2
}
